{
  "cells": [
    {
      "cell_type": "markdown",
      "metadata": {},
      "source": [
      "
      This example is designed to simulate a field experiment for wheat strip rust with in 5 * 28
      plots with 1.524 m x 1.524 m (5 ft by 5 ft) grid cells. The experiment was planted
      with a non-resistant variety of wheat and multiple treatments were performed. 
      This example will demonstrate setting up the data for the model and the treatments, 
      running calibration and validation, and comparing simulation results to observed 
      data. We are ignoring the effect of weather on disease spread for this example.
      "
      ]
    },
  {
   "cell_type": "code",
   "execution_count": 1,
   "metadata": {},
   "source": [
    "library(raster, warn.conflicts = F, quietly = T)\n",
    "library(folderfun, warn.conflicts = F, quietly = T)\n",
    "library(sp, warn.conflicts = F, quietly = T)\n",
    "library(matrixStats, warn.conflicts = F, quietly = T)\n",
    "library(ggplot2, warn.conflicts = F, quietly = T)\n",
    "library(devtools, warn.conflicts = F, quietly = T)\n",
    "library(PoPS, warn.conflicts = F, quietly = T)\n",
    "library(MASS, warn.conflicts = F, quietly = T)\n",
    "library(doParallel, warn.conflicts = F, quietly = T)\n",
    "library(lubridate, warn.conflicts = F, quietly = T)\n"
   ]
  }
  ],
  "metadata": {
    "kernelspec": {
      "display_name": "R",
      "language": "R",
      "name": "ir"
    },
    "language_info": {
      "codemirror_mode": "r",
      "file_extension": ".r",
      "mimetype": "text/x-r-source",
      "name": "R",
      "pygments_lexer": "r",
      "version": "3.4.2"
    }
  },
  "nbformat": 4,
  "nbformat_minor": 2
}