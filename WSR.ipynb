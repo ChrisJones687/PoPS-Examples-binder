{
 "cells": [
  {
   "cell_type": "markdown",
   "metadata": {},
   "source": [
    "This example is designed to simulate a field experiment for wheat strip rust with multiple 5 * 28 plots with 1.52 m x 1.52 m (5 ft by 5ft) grid cells. The experiment was planted with a non-resistant variety of wheat and multiple treatments were performed with replication. This example will cover setting up the data for the model and the treatments, running the calibration, and comparing the simulation results to the observed field data. We are ignoring the effect of weather on disease spread in this example but will cover this in another example."
   ]
  },
  {
   "cell_type": "code",
   "execution_count": 1,
   "metadata": {},
   "source": [
    "library(raster, warn.conflicts = F, quietly = T)\n",
    "library(folderfun, warn.conflicts = F, quietly = T)\n",
    "library(sp, warn.conflicts = F, quietly = T)\n",
    "library(matrixStats, warn.conflicts = F, quietly = T)\n",
    "library(ggplot2, warn.conflicts = F, quietly = T)\n",
    "library(devtools, warn.conflicts = F, quietly = T)\n",
    "library(PoPS, warn.conflicts = F, quietly = T)\n",
    "library(MASS, warn.conflicts = F, quietly = T)\n",
    "library(doParallel, warn.conflicts = F, quietly = T)\n",
    "library(lubridate, warn.conflicts = F, quietly = T)\n",
    "suppressMessages(folderfun::setff(\"In\",\"/home/jovyan/\")) # Change to your local directory"
   ]
  },
  {
   "cell_type": "code",
   "execution_count": null,
   "metadata": {},
   "outputs": [],
   "source": []
  }
 ],
 "metadata": {
  "kernelspec": {
   "display_name": "R",
   "language": "R",
   "name": "ir"
  },
  "language_info": {
   "codemirror_mode": "r",
   "file_extension": ".r",
   "mimetype": "text/x-r-source",
   "name": "R",
   "pygments_lexer": "r",
   "version": "3.6.3"
  },
  "widgets": {
   "application/vnd.jupyter.widget-state+json": {
    "state": {},
    "version_major": 2,
    "version_minor": 0
   }
  }
 },
  "nbformat": 4,
  "nbformat_minor": 2
}