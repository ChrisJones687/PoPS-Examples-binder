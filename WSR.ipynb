{
  "cells": [
    {
      "cell_type": "markdown",
      "metadata": {},
      "source": [
        "This example is designed to simulate a field experiment for wheat strip rust with multiple 5 * 28 plots with 1.52 m x 1.52 m (5 ft by 5ft) grid cells. The experiment was planted with a non-resistant variety of wheat and multiple treatments were performed with replication. This example will cover setting up the data for the model and the treatments, running the calibration, and comparing the simulation results to the observed field data. We are ignoring the effect of weather on disease spread in this example but will cover this in another example."
      ]
    }
  ],
  "metadata": {
    "kernelspec": {
      "display_name": "R",
      "language": "R",
      "name": "ir"
    },
    "language_info": {
      "codemirror_mode": "r",
      "file_extension": ".r",
      "mimetype": "text/x-r-source",
      "name": "R",
      "pygments_lexer": "r",
      "version": "3.4.2"
    }
  },
  "nbformat": 4,
  "nbformat_minor": 2
}